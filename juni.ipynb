{
  "nbformat": 4,
  "nbformat_minor": 0,
  "metadata": {
    "colab": {
      "provenance": [],
      "authorship_tag": "ABX9TyPuAkVNvObWCWVaWDnj2MJx",
      "include_colab_link": true
    },
    "kernelspec": {
      "name": "python3",
      "display_name": "Python 3"
    },
    "language_info": {
      "name": "python"
    }
  },
  "cells": [
    {
      "cell_type": "markdown",
      "metadata": {
        "id": "view-in-github",
        "colab_type": "text"
      },
      "source": [
        "<a href=\"https://colab.research.google.com/github/Juni35/Building-a-Simple-Chatbot-in-Python-using-NLTK/blob/master/juni.ipynb\" target=\"_parent\"><img src=\"https://colab.research.google.com/assets/colab-badge.svg\" alt=\"Open In Colab\"/></a>"
      ]
    },
    {
      "cell_type": "code",
      "source": [
        "import pandas as pd\n",
        "import numpy as np\n",
        "from sklearn.feature_extraction.text import CountVectorizer\n",
        "from sklearn.metrics.pairwise import cosine_similarity\n",
        "\n",
        "# Load the dataset\n",
        "df = pd.read_csv(\"/movies.csv\")\n",
        "\n",
        "# Preprocess the data\n",
        "df[\"overview\"] = df[\"overview\"].fillna(\"\")\n",
        "\n",
        "# Create a count matrix\n",
        "countvec = CountVectorizer(stop_words=\"english\")\n",
        "count_matrix = countvec.fit_transform(df[\"overview\"])\n",
        "\n",
        "# Compute cosine similarity\n",
        "cosine_sim = cosine_similarity(count_matrix, count_matrix)\n",
        "\n",
        "# Get the index of the movie that the user likes\n",
        "movie_index = df[df[\"title\"] == \"The Matrix\"].index[0]\n",
        "\n",
        "# Get the indexes of the most similar movies\n",
        "similar_movies = list(enumerate(cosine_sim[movie_index]))\n",
        "similar_movies = sorted(similar_movies, key=lambda x: x[1], reverse=True)[1:6]\n",
        "\n",
        "# Get the titles of the most similar movies\n",
        "similar_movies_titles = [df[\"title\"].iloc[i[0]] for i in similar_movies]\n",
        "\n",
        "# Print the titles\n",
        "print(\"Movies recommended for you:\")\n",
        "for title in similar_movies_titles:\n",
        "    print(title)\n"
      ],
      "metadata": {
        "colab": {
          "base_uri": "https://localhost:8080/"
        },
        "id": "wtRc2ShHeeCn",
        "outputId": "68d12bdb-6569-4961-a1c7-41373ab0113a"
      },
      "execution_count": null,
      "outputs": [
        {
          "output_type": "stream",
          "name": "stdout",
          "text": [
            "Movies recommended for you:\n",
            "11:14\n",
            "Timeline\n",
            "Pulse\n",
            "Hackers\n",
            "The Specials\n"
          ]
        }
      ]
    }
  ]
}